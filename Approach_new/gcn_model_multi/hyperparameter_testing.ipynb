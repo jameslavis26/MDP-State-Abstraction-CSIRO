{
 "cells": [
  {
   "cell_type": "code",
   "execution_count": 1,
   "metadata": {},
   "outputs": [],
   "source": [
    "from generate_mdps import generate_datsets\n",
    "from dataset import MDPDataset, AllNodeFeatures, InMemoryMDPDataset, TransitionsOnEdge\n",
    "from experiment import Experiment\n",
    "from MDP_helpers import calculate_gap, multiclass_recall_score"
   ]
  },
  {
   "cell_type": "code",
   "execution_count": 2,
   "metadata": {},
   "outputs": [
    {
     "name": "stderr",
     "output_type": "stream",
     "text": [
      "/home/james/virtual_envs/csiro_venv/lib/python3.10/site-packages/tqdm/auto.py:21: TqdmWarning: IProgress not found. Please update jupyter and ipywidgets. See https://ipywidgets.readthedocs.io/en/stable/user_install.html\n",
      "  from .autonotebook import tqdm as notebook_tqdm\n"
     ]
    }
   ],
   "source": [
    "import os\n",
    "import pandas as pd\n",
    "import seaborn as sns\n",
    "import matplotlib.pyplot as plt\n",
    "import optuna\n",
    "import numpy as np\n",
    "\n",
    "import torch\n",
    "import torch.nn.functional as F\n",
    "from torch_geometric.loader import DataLoader\n",
    "from torch_geometric.nn.models import GCN, GAT\n",
    "from torch.optim.lr_scheduler import ExponentialLR\n",
    "from torch.utils.data import random_split\n",
    "from collections import defaultdict\n",
    "from sklearn.metrics import recall_score\n",
    "\n",
    "from time import time\n",
    "from tqdm import tqdm"
   ]
  },
  {
   "cell_type": "code",
   "execution_count": 3,
   "metadata": {},
   "outputs": [],
   "source": [
    "torch.cuda.manual_seed(12345)\n",
    "np.random.seed(12345)"
   ]
  },
  {
   "cell_type": "code",
   "execution_count": 4,
   "metadata": {},
   "outputs": [
    {
     "name": "stdout",
     "output_type": "stream",
     "text": [
      "cuda\n"
     ]
    }
   ],
   "source": [
    "device = 'cuda' if torch.cuda.is_available() else 'cpu'\n",
    "# device='cpu'\n",
    "print(device)"
   ]
  },
  {
   "cell_type": "code",
   "execution_count": 5,
   "metadata": {},
   "outputs": [],
   "source": [
    "# hparam_file = \"gat_hparams\"\n",
    "experiment_name = \"GAT_NoLR_test_node\"\n",
    "\n",
    "os.mkdir(f\"Results/{experiment_name}\") if not os.path.isdir(f\"Results/{experiment_name}\") else ..."
   ]
  },
  {
   "cell_type": "code",
   "execution_count": 6,
   "metadata": {},
   "outputs": [
    {
     "name": "stdout",
     "output_type": "stream",
     "text": [
      "N_states: 243\n"
     ]
    },
    {
     "data": {
      "text/plain": [
       "'Data already exists'"
      ]
     },
     "execution_count": 6,
     "metadata": {},
     "output_type": "execute_result"
    }
   ],
   "source": [
    "N_datasets = 100\n",
    "\n",
    "N_sites = 5\n",
    "N_species = 20\n",
    "K = 7\n",
    "\n",
    "N_states = 3**N_sites\n",
    "print(f\"N_states: {N_states}\")\n",
    "generate_datsets(N_sites, N_species, K, N_datasets, remove_previous=False, folder=\"hparam_data\")"
   ]
  },
  {
   "cell_type": "code",
   "execution_count": 7,
   "metadata": {},
   "outputs": [],
   "source": [
    "# dataset = MDPDataset(f\"datasets/hparam_data\", pre_transform=TransitionsOnEdge())\n",
    "dataset = InMemoryMDPDataset(f\"datasets/hparam_data\", pre_transform=AllNodeFeatures())"
   ]
  },
  {
   "cell_type": "code",
   "execution_count": 8,
   "metadata": {},
   "outputs": [
    {
     "data": {
      "text/plain": [
       "Data(x=[243, 1220], edges=[2, 2272], k_labels=[243], P=[5, 243, 243], R=[243, 5], V=[243])"
      ]
     },
     "execution_count": 8,
     "metadata": {},
     "output_type": "execute_result"
    }
   ],
   "source": [
    "dataset[0]"
   ]
  },
  {
   "cell_type": "code",
   "execution_count": 9,
   "metadata": {},
   "outputs": [
    {
     "data": {
      "text/plain": [
       "tensor(False)"
      ]
     },
     "execution_count": 9,
     "metadata": {},
     "output_type": "execute_result"
    }
   ],
   "source": [
    "torch.all(dataset[0].R == dataset[5].R)"
   ]
  },
  {
   "cell_type": "code",
   "execution_count": 10,
   "metadata": {},
   "outputs": [],
   "source": [
    "train_ratio = 0.8\n",
    "test_ratio = 0.2\n",
    "\n",
    "train_size = int(train_ratio * len(dataset))\n",
    "test_size = len(dataset) - train_size\n",
    "\n",
    "train_set, test_set = random_split(dataset, [train_size, test_size])\n",
    "\n",
    "train_data = DataLoader(train_set, batch_size=1, shuffle=True)\n",
    "test_data = DataLoader(test_set, batch_size=1, shuffle=True)"
   ]
  },
  {
   "cell_type": "code",
   "execution_count": null,
   "metadata": {},
   "outputs": [],
   "source": []
  },
  {
   "cell_type": "code",
   "execution_count": 11,
   "metadata": {},
   "outputs": [
    {
     "name": "stderr",
     "output_type": "stream",
     "text": [
      "[I 2023-11-19 21:20:53,176] A new study created in memory with name: no-name-46b8f8fc-cdbd-40fe-a1f0-1cfa7dee484e\n"
     ]
    },
    {
     "name": "stderr",
     "output_type": "stream",
     "text": [
      "[I 2023-11-19 21:23:41,987] Trial 0 finished with value: 1.7059049606323242 and parameters: {'hidden_channels': 54, 'num_layers': 3, 'dropout': 0.8969569908999692, 'lr': 0.006275465805422023, 'weight_decay': 0.4063336994633067}. Best is trial 0 with value: 1.7059049606323242.\n",
      "[I 2023-11-19 21:25:53,090] Trial 1 finished with value: 0.9997822642326355 and parameters: {'hidden_channels': 148, 'num_layers': 2, 'dropout': 0.05879570266235654, 'lr': 0.0017120263195034371, 'weight_decay': 0.4300925893452236}. Best is trial 1 with value: 0.9997822642326355.\n",
      "[I 2023-11-19 21:27:18,377] Trial 2 finished with value: 1.7174780368804932 and parameters: {'hidden_channels': 131, 'num_layers': 1, 'dropout': 0.9891333502269372, 'lr': 0.0014380329497718184, 'weight_decay': 0.831671936129519}. Best is trial 1 with value: 0.9997822642326355.\n",
      "[I 2023-11-19 21:30:57,509] Trial 3 finished with value: 1.8655662536621094 and parameters: {'hidden_channels': 234, 'num_layers': 4, 'dropout': 0.7550167990882345, 'lr': 4.865043814955594e-05, 'weight_decay': 0.30589988410661706}. Best is trial 1 with value: 0.9997822642326355.\n",
      "[I 2023-11-19 21:33:56,717] Trial 4 finished with value: 1.1800936460494995 and parameters: {'hidden_channels': 169, 'num_layers': 3, 'dropout': 0.2557219883870214, 'lr': 0.0065546602042736305, 'weight_decay': 0.35288633440332884}. Best is trial 1 with value: 0.9997822642326355.\n",
      "[I 2023-11-19 21:38:14,505] Trial 5 finished with value: 1.7025352716445923 and parameters: {'hidden_channels': 202, 'num_layers': 5, 'dropout': 0.26339926996612617, 'lr': 0.0027598006987229456, 'weight_decay': 0.6351754210761129}. Best is trial 1 with value: 0.9997822642326355.\n",
      "[I 2023-11-19 21:42:45,734] Trial 6 finished with value: 0.732448399066925 and parameters: {'hidden_channels': 242, 'num_layers': 5, 'dropout': 0.1330921341448796, 'lr': 0.0064443889257624525, 'weight_decay': 0.057203820126735604}. Best is trial 6 with value: 0.732448399066925.\n",
      "[I 2023-11-19 21:44:13,577] Trial 7 finished with value: 1.6199970245361328 and parameters: {'hidden_channels': 250, 'num_layers': 1, 'dropout': 0.9168981191178803, 'lr': 0.008287918525227825, 'weight_decay': 0.6270342686553011}. Best is trial 6 with value: 0.732448399066925.\n",
      "[I 2023-11-19 21:46:20,987] Trial 8 finished with value: 1.1048319339752197 and parameters: {'hidden_channels': 175, 'num_layers': 2, 'dropout': 0.38084554186021785, 'lr': 0.0038217370710129815, 'weight_decay': 0.41322192411867315}. Best is trial 6 with value: 0.732448399066925.\n",
      "[I 2023-11-19 21:49:52,339] Trial 9 finished with value: 1.7120929956436157 and parameters: {'hidden_channels': 97, 'num_layers': 4, 'dropout': 0.9348973153827175, 'lr': 0.006071373850910577, 'weight_decay': 0.677565490903643}. Best is trial 6 with value: 0.732448399066925.\n"
     ]
    }
   ],
   "source": [
    "N_epochs = 1000\n",
    "\n",
    "def objective(trial):\n",
    "    hidden_channels = trial.suggest_int(\"hidden_channels\", 50, 300)\n",
    "    num_layers = trial.suggest_int(\"num_layers\", 1, 5)\n",
    "    dropout = trial.suggest_float(\"dropout\", 1e-4, 1)\n",
    "    lr = trial.suggest_float(\"lr\", 1e-6, 0.01)\n",
    "    weight_decay = trial.suggest_float(\"weight_decay\", 1e-6, 1)\n",
    "\n",
    "    gnn_model = GAT(\n",
    "        in_channels=dataset[0].x.shape[1],\n",
    "        out_channels=K,\n",
    "        hidden_channels=hidden_channels,\n",
    "        num_layers=num_layers,\n",
    "        dropout=dropout,\n",
    "    ).to(device)\n",
    "\n",
    "\n",
    "    optimizer = torch.optim.Adam(gnn_model.parameters(), lr=lr, weight_decay=weight_decay)\n",
    "    loss_function = torch.nn.CrossEntropyLoss()\n",
    "\n",
    "    gnn_model.train()\n",
    "    old_loss = 0\n",
    "    count = 0\n",
    "    for epoch in range(N_epochs):\n",
    "        optimizer.zero_grad()     \n",
    "        loss = 0\n",
    "        for data in train_data:\n",
    "            pred = gnn_model(\n",
    "                x = data.x.to(device), \n",
    "                edge_index=data.edges.to(device), \n",
    "                # edge_attr=data.edge_features.to(device)\n",
    "            )\n",
    "            loss += loss_function(pred, data.k_labels.to(device))\n",
    "            \n",
    "        loss.backward()\n",
    "        optimizer.step()\n",
    "\n",
    "        if torch.abs(old_loss - loss) < 1e-6:\n",
    "            count += 1\n",
    "            if count > 100:\n",
    "                break\n",
    "        else:\n",
    "            count = 0\n",
    "    \n",
    "    gnn_model.eval()\n",
    "    # errors = []\n",
    "    # recall = []\n",
    "    test_loss = 0\n",
    "    for data in test_data:\n",
    "        out = gnn_model(\n",
    "                x = data.x.to(device), \n",
    "                edge_index=data.edges.to(device), \n",
    "                # edge_attr=data.edge_features.to(device)\n",
    "            )\n",
    "        # pred = F.softmax(out, dim=1).argmax(axis=1)#.to('cpu')\n",
    "\n",
    "        test_loss += loss_function(pred, data.k_labels.to(device))\n",
    "    test_loss /= len(test_data)\n",
    "        # _, error = calculate_gap(data.P, data.R, data.V, pred, K, device=device)\n",
    "        # errors.append(error.to('cpu'))\n",
    "        # recall.append(\n",
    "        #     recall_score(data.k_labels.to('cpu'), pred.to('cpu'), average=\"macro\")\n",
    "        # )\n",
    "    \n",
    "    return test_loss#np.mean(recall) - np.mean(errors) # Minimise errors while maximising recall score\n",
    "\n",
    "study = optuna.create_study(direction='minimize')\n",
    "study.optimize(objective, n_trials=30, n_jobs=1)\n",
    "\n",
    "best_params = study.best_params\n",
    "\n",
    "print(study.best_value)\n",
    "print(best_params)"
   ]
  },
  {
   "cell_type": "code",
   "execution_count": null,
   "metadata": {},
   "outputs": [],
   "source": [
    "experiment = Experiment(savefile=f\"Results/{experiment_name}/hparams_1000_loss\")"
   ]
  },
  {
   "cell_type": "code",
   "execution_count": null,
   "metadata": {},
   "outputs": [],
   "source": [
    "# trials = [i for i in map(lambda x: dict([(\"loss\", x.values[0]), (\"recall\", x.values[1]),*(x.params).items()]), study.get_trials())]\n",
    "# trials = pd.DataFrame(trials)\n",
    "# trials = trials.sort_values(by='recall', ascending=False)\n",
    "\n",
    "trials = [i for i in map(lambda x: dict([(\"score\", x.values[0]),*(x.params).items()]), study.get_trials())]\n",
    "trials = pd.DataFrame(trials)\n",
    "trials = trials.sort_values(by='score', ascending=False)\n",
    "\n",
    "for i in trials.index:\n",
    "    trials.loc[i].to_dict()\n",
    "    experiment.save(trials.loc[i].to_dict())"
   ]
  },
  {
   "cell_type": "code",
   "execution_count": null,
   "metadata": {},
   "outputs": [],
   "source": [
    "all_trials = pd.DataFrame(experiment.load()).sort_values(by=\"score\", ascending=True)"
   ]
  },
  {
   "cell_type": "code",
   "execution_count": null,
   "metadata": {},
   "outputs": [
    {
     "data": {
      "text/html": [
       "<div>\n",
       "<style scoped>\n",
       "    .dataframe tbody tr th:only-of-type {\n",
       "        vertical-align: middle;\n",
       "    }\n",
       "\n",
       "    .dataframe tbody tr th {\n",
       "        vertical-align: top;\n",
       "    }\n",
       "\n",
       "    .dataframe thead th {\n",
       "        text-align: right;\n",
       "    }\n",
       "</style>\n",
       "<table border=\"1\" class=\"dataframe\">\n",
       "  <thead>\n",
       "    <tr style=\"text-align: right;\">\n",
       "      <th></th>\n",
       "      <th>score</th>\n",
       "      <th>hidden_channels</th>\n",
       "      <th>num_layers</th>\n",
       "      <th>dropout</th>\n",
       "      <th>lr</th>\n",
       "      <th>weight_decay</th>\n",
       "    </tr>\n",
       "  </thead>\n",
       "  <tbody>\n",
       "    <tr>\n",
       "      <th>29</th>\n",
       "      <td>0.654883</td>\n",
       "      <td>241.0</td>\n",
       "      <td>2.0</td>\n",
       "      <td>0.505646</td>\n",
       "      <td>0.001560</td>\n",
       "      <td>0.030599</td>\n",
       "    </tr>\n",
       "    <tr>\n",
       "      <th>28</th>\n",
       "      <td>0.699302</td>\n",
       "      <td>232.0</td>\n",
       "      <td>3.0</td>\n",
       "      <td>0.840947</td>\n",
       "      <td>0.000715</td>\n",
       "      <td>0.024960</td>\n",
       "    </tr>\n",
       "    <tr>\n",
       "      <th>27</th>\n",
       "      <td>0.723042</td>\n",
       "      <td>298.0</td>\n",
       "      <td>2.0</td>\n",
       "      <td>0.566630</td>\n",
       "      <td>0.002098</td>\n",
       "      <td>0.136036</td>\n",
       "    </tr>\n",
       "    <tr>\n",
       "      <th>26</th>\n",
       "      <td>0.737601</td>\n",
       "      <td>276.0</td>\n",
       "      <td>2.0</td>\n",
       "      <td>0.707962</td>\n",
       "      <td>0.002234</td>\n",
       "      <td>0.157574</td>\n",
       "    </tr>\n",
       "    <tr>\n",
       "      <th>25</th>\n",
       "      <td>0.744222</td>\n",
       "      <td>296.0</td>\n",
       "      <td>2.0</td>\n",
       "      <td>0.590686</td>\n",
       "      <td>0.003864</td>\n",
       "      <td>0.164953</td>\n",
       "    </tr>\n",
       "  </tbody>\n",
       "</table>\n",
       "</div>"
      ],
      "text/plain": [
       "       score  hidden_channels  num_layers   dropout        lr  weight_decay\n",
       "29  0.654883            241.0         2.0  0.505646  0.001560      0.030599\n",
       "28  0.699302            232.0         3.0  0.840947  0.000715      0.024960\n",
       "27  0.723042            298.0         2.0  0.566630  0.002098      0.136036\n",
       "26  0.737601            276.0         2.0  0.707962  0.002234      0.157574\n",
       "25  0.744222            296.0         2.0  0.590686  0.003864      0.164953"
      ]
     },
     "execution_count": 19,
     "metadata": {},
     "output_type": "execute_result"
    }
   ],
   "source": [
    "all_trials.head()"
   ]
  },
  {
   "cell_type": "code",
   "execution_count": null,
   "metadata": {},
   "outputs": [
    {
     "data": {
      "text/plain": [
       "Text(0, 0.5, 'score')"
      ]
     },
     "execution_count": 20,
     "metadata": {},
     "output_type": "execute_result"
    },
    {
     "data": {
      "image/png": "[encoded data removed]",
      "text/plain": [
       "<Figure size 640x480 with 1 Axes>"
      ]
     },
     "metadata": {},
     "output_type": "display_data"
    }
   ],
   "source": [
    "filt = (all_trials[\"lr\"].between(0.006, 0.1))\\\n",
    "& (all_trials[\"hidden_channels\"].between(132, 141)) \\\n",
    "& (all_trials[\"dropout\"].between(0, 0.2)) \\\n",
    "& (all_trials[\"weight_decay\"].between(0, 0.3)) \\\n",
    "\n",
    "\n",
    "\n",
    "\n",
    "x=\"lr\"\n",
    "y=\"score\"\n",
    "\n",
    "plt.scatter(all_trials.loc[filt, x], all_trials.loc[filt, y], marker=\".\")\n",
    "plt.scatter(all_trials.loc[~filt, x], all_trials.loc[~filt, y], marker=\".\")\n",
    "plt.xlabel(x)\n",
    "plt.ylabel(y)"
   ]
  },
  {
   "cell_type": "code",
   "execution_count": null,
   "metadata": {},
   "outputs": [],
   "source": []
  },
  {
   "cell_type": "code",
   "execution_count": null,
   "metadata": {},
   "outputs": [
    {
     "data": {
      "text/plain": [
       "0.0003815204244769461"
      ]
     },
     "execution_count": 6,
     "metadata": {},
     "output_type": "execute_result"
    }
   ],
   "source": [
    "0.009*0.9**30"
   ]
  },
  {
   "cell_type": "code",
   "execution_count": null,
   "metadata": {},
   "outputs": [
    {
     "name": "stdout",
     "output_type": "stream",
     "text": [
      "Traceback (most recent call last):\n",
      "  File \"/home/james/Repo/MDP-State-Abstraction-CSIRO/Approach_new/gcn_model_multi/train_models.py\", line 59, in <module>\n",
      "    raise Exception(\"Hparams do not yet exist!\")\n",
      "Exception: Hparams do not yet exist!\n"
     ]
    }
   ],
   "source": [
    "!python3 train_models.py"
   ]
  },
  {
   "cell_type": "code",
   "execution_count": null,
   "metadata": {},
   "outputs": [],
   "source": []
  }
 ],
 "metadata": {
  "kernelspec": {
   "display_name": "Python 3",
   "language": "python",
   "name": "python3"
  },
  "language_info": {
   "codemirror_mode": {
    "name": "ipython",
    "version": 3
   },
   "file_extension": ".py",
   "mimetype": "text/x-python",
   "name": "python",
   "nbconvert_exporter": "python",
   "pygments_lexer": "ipython3",
   "version": "3.10.12"
  }
 },
 "nbformat": 4,
 "nbformat_minor": 2
}
