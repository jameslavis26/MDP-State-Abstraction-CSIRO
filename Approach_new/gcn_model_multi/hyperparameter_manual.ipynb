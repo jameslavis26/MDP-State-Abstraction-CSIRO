{
 "cells": [
  {
   "cell_type": "code",
   "execution_count": 1,
   "metadata": {},
   "outputs": [],
   "source": [
    "from generate_mdps import generate_datsets\n",
    "from dataset import MDPDataset, AllNodeFeatures, InMemoryMDPDataset, TransitionsOnEdge\n",
    "from experiment import Experiment\n",
    "from MDP_helpers import calculate_gap, multiclass_recall_score"
   ]
  },
  {
   "cell_type": "code",
   "execution_count": 2,
   "metadata": {},
   "outputs": [
    {
     "name": "stderr",
     "output_type": "stream",
     "text": [
      "/home/james/virtual_envs/csiro_venv/lib/python3.10/site-packages/tqdm/auto.py:21: TqdmWarning: IProgress not found. Please update jupyter and ipywidgets. See https://ipywidgets.readthedocs.io/en/stable/user_install.html\n",
      "  from .autonotebook import tqdm as notebook_tqdm\n"
     ]
    }
   ],
   "source": [
    "import os\n",
    "import pandas as pd\n",
    "import seaborn as sns\n",
    "import matplotlib.pyplot as plt\n",
    "import optuna\n",
    "import numpy as np\n",
    "\n",
    "import torch\n",
    "import torch.nn.functional as F\n",
    "from torch_geometric.loader import DataLoader\n",
    "from torch_geometric.nn.models import GCN, GAT\n",
    "from torch.optim.lr_scheduler import ExponentialLR\n",
    "from torch.utils.data import random_split\n",
    "from collections import defaultdict\n",
    "from sklearn.metrics import recall_score\n",
    "\n",
    "from time import time\n",
    "from tqdm import tqdm"
   ]
  },
  {
   "cell_type": "code",
   "execution_count": 3,
   "metadata": {},
   "outputs": [],
   "source": [
    "torch.cuda.manual_seed(12345)\n",
    "np.random.seed(12345)"
   ]
  },
  {
   "cell_type": "code",
   "execution_count": 4,
   "metadata": {},
   "outputs": [
    {
     "name": "stdout",
     "output_type": "stream",
     "text": [
      "cuda\n"
     ]
    }
   ],
   "source": [
    "device = 'cuda' if torch.cuda.is_available() else 'cpu'\n",
    "# device='cpu'\n",
    "print(device)"
   ]
  },
  {
   "cell_type": "code",
   "execution_count": 5,
   "metadata": {},
   "outputs": [
    {
     "data": {
      "text/plain": [
       "Ellipsis"
      ]
     },
     "execution_count": 5,
     "metadata": {},
     "output_type": "execute_result"
    }
   ],
   "source": [
    "# hparam_file = \"gat_hparams\"\n",
    "experiment_name = \"GAT_StepLR\"\n",
    "\n",
    "os.mkdir(f\"Results/{experiment_name}\") if not os.path.isdir(f\"Results/{experiment_name}\") else ..."
   ]
  },
  {
   "cell_type": "code",
   "execution_count": 6,
   "metadata": {},
   "outputs": [
    {
     "name": "stdout",
     "output_type": "stream",
     "text": [
      "N_states: 243\n"
     ]
    },
    {
     "data": {
      "text/plain": [
       "'Data already exists'"
      ]
     },
     "execution_count": 6,
     "metadata": {},
     "output_type": "execute_result"
    }
   ],
   "source": [
    "N_datasets = 100\n",
    "\n",
    "N_sites = 5\n",
    "N_species = 20\n",
    "K = 7\n",
    "\n",
    "N_states = 3**N_sites\n",
    "print(f\"N_states: {N_states}\")\n",
    "generate_datsets(N_sites, N_species, K, N_datasets, remove_previous=False, folder=\"hparam_data\")"
   ]
  },
  {
   "cell_type": "code",
   "execution_count": 7,
   "metadata": {},
   "outputs": [
    {
     "name": "stderr",
     "output_type": "stream",
     "text": [
      "/home/james/Repo/MDP-State-Abstraction-CSIRO/Approach_new/gcn_model_multi/dataset.py:125: UserWarning: Creating a tensor from a list of numpy.ndarrays is extremely slow. Please consider converting the list to a single numpy.ndarray with numpy.array() before converting to a tensor. (Triggered internally at ../torch/csrc/utils/tensor_new.cpp:261.)\n",
      "  edge_features = torch.Tensor([P[:, i[0], i[1]].numpy() for i in edges])\n"
     ]
    }
   ],
   "source": [
    "# dataset = MDPDataset(f\"datasets/hparam_data\", pre_transform=TransitionsOnEdge())\n",
    "dataset = InMemoryMDPDataset(f\"datasets/hparam_data\", pre_transform=TransitionsOnEdge())"
   ]
  },
  {
   "cell_type": "code",
   "execution_count": 8,
   "metadata": {},
   "outputs": [
    {
     "data": {
      "text/plain": [
       "Data(x=[243, 5], edges=[2, 2272], edge_features=[2272, 5], k_labels=[243], P=[5, 243, 243], R=[243, 5], V=[243])"
      ]
     },
     "execution_count": 8,
     "metadata": {},
     "output_type": "execute_result"
    }
   ],
   "source": [
    "dataset[0]"
   ]
  },
  {
   "cell_type": "code",
   "execution_count": 9,
   "metadata": {},
   "outputs": [
    {
     "data": {
      "text/plain": [
       "tensor(False)"
      ]
     },
     "execution_count": 9,
     "metadata": {},
     "output_type": "execute_result"
    }
   ],
   "source": [
    "torch.all(dataset[0].R == dataset[5].R)"
   ]
  },
  {
   "cell_type": "code",
   "execution_count": 10,
   "metadata": {},
   "outputs": [],
   "source": [
    "train_ratio = 0.8\n",
    "test_ratio = 0.2\n",
    "\n",
    "train_size = int(train_ratio * len(dataset))\n",
    "test_size = len(dataset) - train_size\n",
    "\n",
    "train_set, test_set = random_split(dataset, [train_size, test_size])\n",
    "\n",
    "train_data = DataLoader(train_set, batch_size=1, shuffle=True)\n",
    "test_data = DataLoader(test_set, batch_size=1, shuffle=True)"
   ]
  },
  {
   "cell_type": "code",
   "execution_count": 14,
   "metadata": {},
   "outputs": [
    {
     "name": "stderr",
     "output_type": "stream",
     "text": [
      "  0%|          | 0/5000 [00:00<?, ?it/s]"
     ]
    },
    {
     "name": "stderr",
     "output_type": "stream",
     "text": [
      "Epoch 2242/5000, Loss 1.8006:  45%|████▍     | 2242/5000 [10:21<12:44,  3.61it/s]\n"
     ]
    },
    {
     "ename": "KeyboardInterrupt",
     "evalue": "",
     "output_type": "error",
     "traceback": [
      "\u001b[0;31m---------------------------------------------------------------------------\u001b[0m",
      "\u001b[0;31mKeyboardInterrupt\u001b[0m                         Traceback (most recent call last)",
      "\u001b[1;32m/home/james/Repo/MDP-State-Abstraction-CSIRO/Approach_new/gcn_model_multi/hyperparameter_manual.ipynb Cell 11\u001b[0m line \u001b[0;36m4\n\u001b[1;32m     <a href='vscode-notebook-cell://ssh-remote%2B192.168.50.71/home/james/Repo/MDP-State-Abstraction-CSIRO/Approach_new/gcn_model_multi/hyperparameter_manual.ipynb#X13sdnNjb2RlLXJlbW90ZQ%3D%3D?line=36'>37</a>\u001b[0m     loss \u001b[39m+\u001b[39m\u001b[39m=\u001b[39m F\u001b[39m.\u001b[39mcross_entropy(pred, data\u001b[39m.\u001b[39mk_labels\u001b[39m.\u001b[39mto(device))\n\u001b[1;32m     <a href='vscode-notebook-cell://ssh-remote%2B192.168.50.71/home/james/Repo/MDP-State-Abstraction-CSIRO/Approach_new/gcn_model_multi/hyperparameter_manual.ipynb#X13sdnNjb2RlLXJlbW90ZQ%3D%3D?line=38'>39</a>\u001b[0m loss \u001b[39m/\u001b[39m\u001b[39m=\u001b[39m \u001b[39mlen\u001b[39m(train_data) \n\u001b[0;32m---> <a href='vscode-notebook-cell://ssh-remote%2B192.168.50.71/home/james/Repo/MDP-State-Abstraction-CSIRO/Approach_new/gcn_model_multi/hyperparameter_manual.ipynb#X13sdnNjb2RlLXJlbW90ZQ%3D%3D?line=39'>40</a>\u001b[0m loss\u001b[39m.\u001b[39;49mbackward()\n\u001b[1;32m     <a href='vscode-notebook-cell://ssh-remote%2B192.168.50.71/home/james/Repo/MDP-State-Abstraction-CSIRO/Approach_new/gcn_model_multi/hyperparameter_manual.ipynb#X13sdnNjb2RlLXJlbW90ZQ%3D%3D?line=40'>41</a>\u001b[0m optimizer\u001b[39m.\u001b[39mstep()\n\u001b[1;32m     <a href='vscode-notebook-cell://ssh-remote%2B192.168.50.71/home/james/Repo/MDP-State-Abstraction-CSIRO/Approach_new/gcn_model_multi/hyperparameter_manual.ipynb#X13sdnNjb2RlLXJlbW90ZQ%3D%3D?line=42'>43</a>\u001b[0m results[\u001b[39m'\u001b[39m\u001b[39mtraining_loss\u001b[39m\u001b[39m'\u001b[39m]\u001b[39m.\u001b[39mappend(loss\u001b[39m.\u001b[39mto(\u001b[39m'\u001b[39m\u001b[39mcpu\u001b[39m\u001b[39m'\u001b[39m)\u001b[39m.\u001b[39mdetach()\u001b[39m.\u001b[39mfloat())\n",
      "File \u001b[0;32m~/virtual_envs/csiro_venv/lib/python3.10/site-packages/torch/_tensor.py:492\u001b[0m, in \u001b[0;36mTensor.backward\u001b[0;34m(self, gradient, retain_graph, create_graph, inputs)\u001b[0m\n\u001b[1;32m    482\u001b[0m \u001b[39mif\u001b[39;00m has_torch_function_unary(\u001b[39mself\u001b[39m):\n\u001b[1;32m    483\u001b[0m     \u001b[39mreturn\u001b[39;00m handle_torch_function(\n\u001b[1;32m    484\u001b[0m         Tensor\u001b[39m.\u001b[39mbackward,\n\u001b[1;32m    485\u001b[0m         (\u001b[39mself\u001b[39m,),\n\u001b[0;32m   (...)\u001b[0m\n\u001b[1;32m    490\u001b[0m         inputs\u001b[39m=\u001b[39minputs,\n\u001b[1;32m    491\u001b[0m     )\n\u001b[0;32m--> 492\u001b[0m torch\u001b[39m.\u001b[39;49mautograd\u001b[39m.\u001b[39;49mbackward(\n\u001b[1;32m    493\u001b[0m     \u001b[39mself\u001b[39;49m, gradient, retain_graph, create_graph, inputs\u001b[39m=\u001b[39;49minputs\n\u001b[1;32m    494\u001b[0m )\n",
      "File \u001b[0;32m~/virtual_envs/csiro_venv/lib/python3.10/site-packages/torch/autograd/__init__.py:251\u001b[0m, in \u001b[0;36mbackward\u001b[0;34m(tensors, grad_tensors, retain_graph, create_graph, grad_variables, inputs)\u001b[0m\n\u001b[1;32m    246\u001b[0m     retain_graph \u001b[39m=\u001b[39m create_graph\n\u001b[1;32m    248\u001b[0m \u001b[39m# The reason we repeat the same comment below is that\u001b[39;00m\n\u001b[1;32m    249\u001b[0m \u001b[39m# some Python versions print out the first line of a multi-line function\u001b[39;00m\n\u001b[1;32m    250\u001b[0m \u001b[39m# calls in the traceback and some print out the last line\u001b[39;00m\n\u001b[0;32m--> 251\u001b[0m Variable\u001b[39m.\u001b[39;49m_execution_engine\u001b[39m.\u001b[39;49mrun_backward(  \u001b[39m# Calls into the C++ engine to run the backward pass\u001b[39;49;00m\n\u001b[1;32m    252\u001b[0m     tensors,\n\u001b[1;32m    253\u001b[0m     grad_tensors_,\n\u001b[1;32m    254\u001b[0m     retain_graph,\n\u001b[1;32m    255\u001b[0m     create_graph,\n\u001b[1;32m    256\u001b[0m     inputs,\n\u001b[1;32m    257\u001b[0m     allow_unreachable\u001b[39m=\u001b[39;49m\u001b[39mTrue\u001b[39;49;00m,\n\u001b[1;32m    258\u001b[0m     accumulate_grad\u001b[39m=\u001b[39;49m\u001b[39mTrue\u001b[39;49;00m,\n\u001b[1;32m    259\u001b[0m )\n",
      "\u001b[0;31mKeyboardInterrupt\u001b[0m: "
     ]
    }
   ],
   "source": [
    "N_epochs = 5000\n",
    "results = defaultdict(list)\n",
    "\n",
    "# torch.cuda.manual_seed(12345)\n",
    "# {'hidden_channels': 132, 'num_layers': 4, 'dropout': 0.10261264091429285, 'lr': 0.0071256227750093465, 'weight_decay': 0.12567590025587647}\n",
    "\n",
    "hidden_channels = 132\n",
    "num_layers = 4\n",
    "dropout = 0.10261264091429285\n",
    "lr = 0.004167\n",
    "weight_decay = 0.12567590025587647\n",
    "\n",
    "model = GAT(\n",
    "    in_channels=dataset[0].x.shape[1], \n",
    "    out_channels=K, \n",
    "    hidden_channels=hidden_channels, \n",
    "    num_layers=num_layers, \n",
    "    dropout=dropout\n",
    ").to(device)\n",
    "\n",
    "\n",
    "optimizer = torch.optim.Adam(model.parameters(), lr=lr, weight_decay=weight_decay)\n",
    "# lr_schedular = torch.optim.lr_scheduler.StepLR(optimizer, step_size=20, gamma=0.5)\n",
    "\n",
    "epochs = tqdm(range(N_epochs))\n",
    "for epoch in epochs:\n",
    "    model.train()\n",
    "    optimizer.zero_grad()     \n",
    "\n",
    "    loss = 0\n",
    "    for data in train_data:\n",
    "        pred = model(\n",
    "            x = data.x.to(device), \n",
    "            edge_index=data.edges.to(device),\n",
    "            edge_attr = data.edge_features.to(device)\n",
    "        )\n",
    "        loss += F.cross_entropy(pred, data.k_labels.to(device))\n",
    "\n",
    "    loss /= len(train_data) \n",
    "    loss.backward()\n",
    "    optimizer.step()\n",
    "\n",
    "    results['training_loss'].append(loss.to('cpu').detach().float())\n",
    "\n",
    "\n",
    "    model.eval()\n",
    "    test_loss = 0\n",
    "    avg_gap = 0\n",
    "    avg_error = 0\n",
    "    avg_recall = 0\n",
    "    for data in test_data:\n",
    "        out = model(\n",
    "            x = data.x.to(device), \n",
    "            edge_index=data.edges.to(device),\n",
    "            edge_attr = data.edge_features.to(device)\n",
    "        )\n",
    "        pred_k = F.softmax(pred, dim=1).argmax(axis=1)\n",
    "        test_loss += F.cross_entropy(pred, data.k_labels.to(device))#, weight=weights(data.k_labels.to(device), weight_spread))\n",
    "        # gap, error = calculate_gap(data.P, data.R, data.V, pred_k, K, device='cpu')\n",
    "        # avg_gap += gap\n",
    "        # avg_error += error\n",
    "        # avg_recall += recall_score(data.k_labels, pred_k.to('cpu'), average=\"macro\")\n",
    "\n",
    "\n",
    "    test_loss /= len(test_data)\n",
    "    # avg_gap /= len(test_data)\n",
    "    # avg_error /= len(test_data)\n",
    "    # avg_recall /= len(test_data)\n",
    "\n",
    "    results['test_loss'].append(test_loss.to('cpu').detach().float())\n",
    "    # results['test_gap'].append(avg_gap)\n",
    "    # results['test_error'].append(avg_error)\n",
    "    # results['test_recall'].append(avg_recall)\n",
    "\n",
    "    epochs.set_description(f\"Epoch {epoch+1}/{N_epochs}, Loss {test_loss:.4f}\")#, Gap {avg_gap:.4f}, Recall {avg_recall:.4f}\")\n",
    "\n"
   ]
  },
  {
   "cell_type": "code",
   "execution_count": 16,
   "metadata": {},
   "outputs": [
    {
     "data": {
      "image/png": "[encoded data removed]",
      "text/plain": [
       "<Figure size 1500x600 with 2 Axes>"
      ]
     },
     "metadata": {},
     "output_type": "display_data"
    }
   ],
   "source": [
    "fig, ax = plt.subplots(ncols=2, figsize=(15, 6))\n",
    "\n",
    "ax[0].plot(results[\"training_loss\"])\n",
    "ax[1].plot(results['test_loss'])\n",
    "\n",
    "plt.savefig(\"NoLRGAT.png\")"
   ]
  },
  {
   "cell_type": "code",
   "execution_count": null,
   "metadata": {},
   "outputs": [],
   "source": []
  }
 ],
 "metadata": {
  "kernelspec": {
   "display_name": "Python 3",
   "language": "python",
   "name": "python3"
  },
  "language_info": {
   "codemirror_mode": {
    "name": "ipython",
    "version": 3
   },
   "file_extension": ".py",
   "mimetype": "text/x-python",
   "name": "python",
   "nbconvert_exporter": "python",
   "pygments_lexer": "ipython3",
   "version": "3.10.12"
  }
 },
 "nbformat": 4,
 "nbformat_minor": 2
}
