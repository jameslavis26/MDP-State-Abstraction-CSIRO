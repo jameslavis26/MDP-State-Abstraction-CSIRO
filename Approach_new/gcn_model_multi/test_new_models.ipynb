{
 "cells": [
  {
   "cell_type": "code",
   "execution_count": 1,
   "metadata": {},
   "outputs": [],
   "source": [
    "from generate_mdps import generate_datsets\n",
    "from dataset import MDPDataset, AllNodeFeatures, InMemoryMDPDataset, TransitionsOnEdge\n",
    "from experiment import Experiment\n",
    "from MDP_helpers import calculate_gap, multiclass_recall_score"
   ]
  },
  {
   "cell_type": "code",
   "execution_count": 2,
   "metadata": {},
   "outputs": [
    {
     "name": "stderr",
     "output_type": "stream",
     "text": [
      "/home/james/virtual_envs/csiro_venv/lib/python3.10/site-packages/tqdm/auto.py:21: TqdmWarning: IProgress not found. Please update jupyter and ipywidgets. See https://ipywidgets.readthedocs.io/en/stable/user_install.html\n",
      "  from .autonotebook import tqdm as notebook_tqdm\n"
     ]
    }
   ],
   "source": [
    "import os\n",
    "import pandas as pd\n",
    "import seaborn as sns\n",
    "import matplotlib.pyplot as plt\n",
    "import optuna\n",
    "import numpy as np\n",
    "\n",
    "import torch\n",
    "import torch.nn.functional as F\n",
    "from torch_geometric.loader import DataLoader\n",
    "from torch_geometric.nn.models import GCN, GAT\n",
    "from torch.optim.lr_scheduler import ExponentialLR\n",
    "from torch.utils.data import random_split\n",
    "from collections import defaultdict\n",
    "from sklearn.metrics import recall_score\n",
    "\n",
    "from time import time\n",
    "from tqdm import tqdm"
   ]
  },
  {
   "cell_type": "code",
   "execution_count": 3,
   "metadata": {},
   "outputs": [],
   "source": [
    "torch.cuda.manual_seed(12345)\n",
    "np.random.seed(12345)"
   ]
  },
  {
   "cell_type": "code",
   "execution_count": 4,
   "metadata": {},
   "outputs": [
    {
     "name": "stdout",
     "output_type": "stream",
     "text": [
      "cuda\n"
     ]
    }
   ],
   "source": [
    "device = 'cuda' if torch.cuda.is_available() else 'cpu'\n",
    "# device='cpu'\n",
    "print(device)"
   ]
  },
  {
   "cell_type": "code",
   "execution_count": 5,
   "metadata": {},
   "outputs": [],
   "source": [
    "# hparam_file = \"gat_hparams\"\n",
    "# experiment_name = \"gcn_243_hparam_30\"\n",
    "\n",
    "# os.mkdir(f\"Results/{experiment_name}\") if not os.path.isdir(f\"Results/{experiment_name}\") else ..."
   ]
  },
  {
   "cell_type": "code",
   "execution_count": 6,
   "metadata": {},
   "outputs": [
    {
     "name": "stdout",
     "output_type": "stream",
     "text": [
      "N_states: 243\n"
     ]
    },
    {
     "data": {
      "text/plain": [
       "'Data already exists'"
      ]
     },
     "execution_count": 6,
     "metadata": {},
     "output_type": "execute_result"
    }
   ],
   "source": [
    "N_datasets = 100\n",
    "\n",
    "N_sites = 5\n",
    "N_species = 20\n",
    "K = 7\n",
    "\n",
    "N_states = 3**N_sites\n",
    "print(f\"N_states: {N_states}\")\n",
    "generate_datsets(N_sites, N_species, K, N_datasets, remove_previous=False, folder=\"Reserve_MDP_243_7\")"
   ]
  },
  {
   "cell_type": "code",
   "execution_count": 7,
   "metadata": {},
   "outputs": [
    {
     "name": "stderr",
     "output_type": "stream",
     "text": [
      "/home/james/Repo/MDP-State-Abstraction-CSIRO/Approach_new/gcn_model_multi/dataset.py:125: UserWarning: Creating a tensor from a list of numpy.ndarrays is extremely slow. Please consider converting the list to a single numpy.ndarray with numpy.array() before converting to a tensor. (Triggered internally at ../torch/csrc/utils/tensor_new.cpp:261.)\n",
      "  edge_features = torch.Tensor([P[:, i[0], i[1]].numpy() for i in edges])\n"
     ]
    }
   ],
   "source": [
    "# dataset = InMemoryMDPDataset(f\"datasets/mdp_{N_states}_state\", pre_transform=TransitionsOnEdge())\n",
    "dataset = InMemoryMDPDataset(\"datasets/Reserve_MDP_243_7\", pre_transform=TransitionsOnEdge())"
   ]
  },
  {
   "cell_type": "code",
   "execution_count": 8,
   "metadata": {},
   "outputs": [],
   "source": [
    "train_ratio = 0.8\n",
    "test_ratio = 0.2\n",
    "\n",
    "train_size = int(train_ratio * len(dataset))\n",
    "test_size = len(dataset) - train_size\n",
    "\n",
    "train_set, test_set = random_split(dataset, [train_size, test_size])\n",
    "\n",
    "train_data = DataLoader(train_set, batch_size=1, shuffle=True)\n",
    "test_data = DataLoader(test_set, batch_size=1, shuffle=True)"
   ]
  },
  {
   "cell_type": "code",
   "execution_count": null,
   "metadata": {},
   "outputs": [],
   "source": [
    "N_epochs = 500\n",
    "\n",
    "def objective(trial):\n",
    "    hidden_channels = trial.suggest_int(\"hidden_channels\", 1, 300)\n",
    "    num_layers = trial.suggest_int(\"num_layers\", 1, 3)\n",
    "    dropout = trial.suggest_float(\"dropout\", 1e-6, 0.5)\n",
    "    lr = trial.suggest_float(\"lr\", 1e-6, 4)\n",
    "    weight_decay = trial.suggest_float(\"weight_decay\", 1e-6, 1)\n",
    "    gamma = trial.suggest_float(\"gamma\", 0.85, 1)\n",
    "    vi_hidden_channels = trial.suggest_int(\"vi_hidden_channels\", 60, 150)\n",
    "\n",
    "    # hidden_channels = trial.suggest_int(\"hidden_channels\", 150, 225)\n",
    "    # num_layers = 1#trial.suggest_int(\"num_layers\", 1, 3)\n",
    "    # dropout = trial.suggest_float(\"dropout\", 0, 0.05)\n",
    "    # lr = trial.suggest_float(\"lr\", 2, 8)\n",
    "    # weight_decay = trial.suggest_float(\"weight_decay\", 1e-3, 0.04)\n",
    "    # gamma = trial.suggest_float(\"gamma\", 0.95, 1)\n",
    "\n",
    "    gnn_model = GAT(\n",
    "        in_channels=dataset[0].x.shape[1],\n",
    "        out_channels=K,\n",
    "        hidden_channels=hidden_channels,\n",
    "        num_layers=num_layers,\n",
    "        dropout=dropout,\n",
    "    ).to(device)\n",
    "\n",
    "\n",
    "    optimizer = torch.optim.Adam(gnn_model.parameters(), lr=lr, weight_decay=weight_decay)\n",
    "    loss_function = torch.nn.CrossEntropyLoss()\n",
    "    # lr_sheduler = torch.optim.lr_scheduler.ExponentialLR(optimizer, gamma)\n",
    "\n",
    "    gnn_model.train()\n",
    "    old_loss = 0\n",
    "    old_count = 0\n",
    "    for epoch in range(N_epochs):\n",
    "        optimizer.zero_grad()     \n",
    "        loss = 0\n",
    "        for data in train_data:\n",
    "            pred = gnn_model(\n",
    "                x = data.x.to(device), \n",
    "                edge_index=data.edges.to(device), \n",
    "                edge_attr=data.edge_features.to(device)\n",
    "            )\n",
    "            loss += loss_function(pred, data.k_labels.to(device))\n",
    "        if torch.abs(loss - old_loss) < 1e-9:\n",
    "            if old_count > 25:\n",
    "                break\n",
    "            else:\n",
    "                old_count += 1\n",
    "        else:\n",
    "            old_loss = 1*loss\n",
    "            old_count = 0\n",
    "        loss.backward()\n",
    "        optimizer.step()\n",
    "        # lr_sheduler.step()\n",
    "    \n",
    "    gnn_model.eval()\n",
    "    errors = []\n",
    "    recall = []\n",
    "    for data in test_data:\n",
    "        out = gnn_model(\n",
    "                x = data.x.to(device), \n",
    "                edge_index=data.edges.to(device), \n",
    "                edge_attr=data.edge_features.to(device)\n",
    "            )\n",
    "        pred = F.softmax(out, dim=1).argmax(axis=1)#.to('cpu')\n",
    "\n",
    "        _, error = calculate_gap(data.P, data.R, data.V, pred, K, device=device)\n",
    "        errors.append(error.to('cpu'))\n",
    "        recall.append(\n",
    "            recall_score(data.k_labels.to('cpu'), pred.to('cpu'), average=\"macro\")\n",
    "        )\n",
    "    \n",
    "    return np.mean(recall) - np.mean(errors) # Minimise errors while maximising recall score\n",
    "\n",
    "study = optuna.create_study(direction='maximize')\n",
    "study.optimize(objective, n_trials=30, n_jobs=1)\n",
    "\n",
    "best_params = study.best_params\n",
    "\n",
    "print(study.best_value)\n",
    "print(best_params)"
   ]
  },
  {
   "cell_type": "code",
   "execution_count": null,
   "metadata": {},
   "outputs": [],
   "source": []
  }
 ],
 "metadata": {
  "kernelspec": {
   "display_name": "Python 3",
   "language": "python",
   "name": "python3"
  },
  "language_info": {
   "codemirror_mode": {
    "name": "ipython",
    "version": 3
   },
   "file_extension": ".py",
   "mimetype": "text/x-python",
   "name": "python",
   "nbconvert_exporter": "python",
   "pygments_lexer": "ipython3",
   "version": "3.10.12"
  }
 },
 "nbformat": 4,
 "nbformat_minor": 2
}
